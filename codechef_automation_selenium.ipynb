{
 "cells": [
  {
   "cell_type": "code",
   "execution_count": 6,
   "metadata": {},
   "outputs": [],
   "source": [
    "from selenium import webdriver"
   ]
  },
  {
   "cell_type": "code",
   "execution_count": 7,
   "metadata": {},
   "outputs": [
    {
     "name": "stderr",
     "output_type": "stream",
     "text": [
      "C:\\Users\\bhuva\\AppData\\Local\\Temp/ipykernel_1312/3387303476.py:2: DeprecationWarning: executable_path has been deprecated, please pass in a Service object\n",
      "  browser=webdriver.Chrome(\"C:\\\\Users\\\\bhuva\\\\Downloads\\\\chromedriver_win32\\\\chromedriver.exe\")\n"
     ]
    }
   ],
   "source": [
    "#destination where chromedriver was downloaded\n",
    "browser=webdriver.Chrome(\"C:\\\\Users\\\\bhuva\\\\Downloads\\\\chromedriver_win32\\\\chromedriver.exe\")"
   ]
  },
  {
   "cell_type": "code",
   "execution_count": 8,
   "metadata": {},
   "outputs": [],
   "source": [
    "browser.get(\"https://www.codechef.com/login?destination=/\")"
   ]
  },
  {
   "cell_type": "code",
   "execution_count": 9,
   "metadata": {},
   "outputs": [],
   "source": [
    "username_element=browser.find_element(by=\"xpath\",value=\"/html/body/section/div[2]/div/div[3]/div[2]/form/div/div[1]/div/div/input\")"
   ]
  },
  {
   "cell_type": "code",
   "execution_count": 10,
   "metadata": {},
   "outputs": [],
   "source": [
    "username_element.send_keys(\"bhuvan_804\")"
   ]
  },
  {
   "cell_type": "code",
   "execution_count": 11,
   "metadata": {},
   "outputs": [],
   "source": [
    "password_element=browser.find_element(by=\"xpath\",value=\"/html/body/section/div[2]/div/div[3]/div[2]/form/div/div[2]/div/div[2]/input\")"
   ]
  },
  {
   "cell_type": "code",
   "execution_count": 12,
   "metadata": {},
   "outputs": [],
   "source": [
    "from getpass import getpass"
   ]
  },
  {
   "cell_type": "code",
   "execution_count": 13,
   "metadata": {},
   "outputs": [
    {
     "name": "stdout",
     "output_type": "stream",
     "text": [
      "Enter Password : ········\n"
     ]
    }
   ],
   "source": [
    "password_element.send_keys(getpass(\"Enter Password : \"))"
   ]
  },
  {
   "cell_type": "code",
   "execution_count": 14,
   "metadata": {},
   "outputs": [],
   "source": [
    "submit_btn=browser.find_element(by='xpath',value='/html/body/section/div[2]/div/div[3]/div[2]/form/div/div[3]/input')"
   ]
  },
  {
   "cell_type": "code",
   "execution_count": 15,
   "metadata": {},
   "outputs": [],
   "source": [
    "submit_btn.click()"
   ]
  },
  {
   "cell_type": "code",
   "execution_count": 16,
   "metadata": {},
   "outputs": [],
   "source": [
    "#we will time delay for slower net connections\n",
    "import time\n",
    "\n",
    "browser.get(\"https://www.codechef.com/submit/TEST\")\n",
    "#sleep function to load all elements before u start to select elements\n",
    "time.sleep(10)"
   ]
  },
  {
   "cell_type": "code",
   "execution_count": 17,
   "metadata": {},
   "outputs": [],
   "source": [
    "#pressing \"Switch to IDE mode\" button\n",
    "switch_ide_btn=browser.find_element(by='xpath',value='/html/body/center/center/table/tbody/tr/td/div/div/div/div[2]/form[1]/div/div/input')"
   ]
  },
  {
   "cell_type": "code",
   "execution_count": 19,
   "metadata": {},
   "outputs": [],
   "source": [
    "switch_ide_btn.click()"
   ]
  },
  {
   "cell_type": "code",
   "execution_count": 20,
   "metadata": {},
   "outputs": [],
   "source": [
    "#toggle editor check box\n",
    "check_box=browser.find_element(by='xpath',value='/html/body/center/center/table/tbody/tr/td/div/div/div/div[2]/form[2]/div/div[2]/div[1]/div/span/div/input')"
   ]
  },
  {
   "cell_type": "code",
   "execution_count": 21,
   "metadata": {},
   "outputs": [],
   "source": [
    "check_box.click()\n",
    "#now we gt the text area which is grappable"
   ]
  },
  {
   "cell_type": "code",
   "execution_count": 22,
   "metadata": {},
   "outputs": [],
   "source": [
    "with open(\"solution.cpp\",'r') as f:\n",
    "    code=f.read()"
   ]
  },
  {
   "cell_type": "code",
   "execution_count": 23,
   "metadata": {},
   "outputs": [
    {
     "data": {
      "text/plain": [
       "'// Problem 1 = Life, the Universe.cpp : Defines the entry point for the console application.\\n//\\n\\n#include \"stdafx.h\"\\n#include <iostream>\\n\\nusing namespace std;\\n\\n\\nint _tmain(int argc, _TCHAR* argv[])\\n{\\n\\tint imput;\\n\\t\\n\\tcin >> imput; //reads the first number \\n\\n\\twhile(imput != 42) //Print out number that we just checked is NOT 42\\n\\t{\\n\\t\\tcout << imput << endl;\\n\\t\\tcin >> imput;\\n\\t}\\n\\t\\n\\n\\treturn 0;\\n}'"
      ]
     },
     "execution_count": 23,
     "metadata": {},
     "output_type": "execute_result"
    }
   ],
   "source": [
    "code"
   ]
  },
  {
   "cell_type": "code",
   "execution_count": 24,
   "metadata": {},
   "outputs": [],
   "source": [
    "code_element=browser.find_element(by='xpath',value='/html/body/center/center/table/tbody/tr/td/div/div/div/div[2]/form[2]/div/div[2]/div[1]/div/textarea')"
   ]
  },
  {
   "cell_type": "code",
   "execution_count": 25,
   "metadata": {},
   "outputs": [],
   "source": [
    "code_element.send_keys(code)"
   ]
  },
  {
   "cell_type": "code",
   "execution_count": 26,
   "metadata": {},
   "outputs": [],
   "source": [
    "##choose language from toggle\n",
    "toggle=browser.find_element(by='xpath',value='/html/body/center/center/table/tbody/tr/td/div/div/div/div[2]/form[2]/div/div[2]/div[3]/select/option[1]')"
   ]
  },
  {
   "cell_type": "code",
   "execution_count": 27,
   "metadata": {},
   "outputs": [],
   "source": [
    "toggle.click()"
   ]
  },
  {
   "cell_type": "code",
   "execution_count": 28,
   "metadata": {},
   "outputs": [],
   "source": [
    "#finally,submit button\n",
    "submit_element=browser.find_element(by='xpath',value='/html/body/center/center/table/tbody/tr/td/div/div/div/div[2]/form[2]/div/div[2]/input[5]')\n"
   ]
  },
  {
   "cell_type": "code",
   "execution_count": 29,
   "metadata": {},
   "outputs": [],
   "source": [
    "submit_element.click()"
   ]
  },
  {
   "cell_type": "markdown",
   "metadata": {},
   "source": []
  }
 ],
 "metadata": {
  "kernelspec": {
   "display_name": "Python 3 (ipykernel)",
   "language": "python",
   "name": "python3"
  },
  "language_info": {
   "codemirror_mode": {
    "name": "ipython",
    "version": 3
   },
   "file_extension": ".py",
   "mimetype": "text/x-python",
   "name": "python",
   "nbconvert_exporter": "python",
   "pygments_lexer": "ipython3",
   "version": "3.8.12"
  }
 },
 "nbformat": 4,
 "nbformat_minor": 4
}
