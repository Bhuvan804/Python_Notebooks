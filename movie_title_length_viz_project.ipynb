{
 "cells": [
  {
   "cell_type": "markdown",
   "metadata": {},
   "source": [
    "Movie Title Length Visualisation from Dataset\n"
   ]
  },
  {
   "cell_type": "code",
   "execution_count": 1,
   "metadata": {},
   "outputs": [],
   "source": [
    "import pandas as pd\n",
    "import numpy as np\n",
    "import matplotlib.pyplot as plt"
   ]
  },
  {
   "cell_type": "code",
   "execution_count": 4,
   "metadata": {},
   "outputs": [],
   "source": [
    "df=pd.read_csv('movies.csv')"
   ]
  },
  {
   "cell_type": "code",
   "execution_count": 5,
   "metadata": {},
   "outputs": [
    {
     "data": {
      "text/html": [
       "<div>\n",
       "<style scoped>\n",
       "    .dataframe tbody tr th:only-of-type {\n",
       "        vertical-align: middle;\n",
       "    }\n",
       "\n",
       "    .dataframe tbody tr th {\n",
       "        vertical-align: top;\n",
       "    }\n",
       "\n",
       "    .dataframe thead th {\n",
       "        text-align: right;\n",
       "    }\n",
       "</style>\n",
       "<table border=\"1\" class=\"dataframe\">\n",
       "  <thead>\n",
       "    <tr style=\"text-align: right;\">\n",
       "      <th></th>\n",
       "      <th>Film</th>\n",
       "      <th>Genre</th>\n",
       "      <th>Lead Studio</th>\n",
       "      <th>Audience score %</th>\n",
       "      <th>Profitability</th>\n",
       "      <th>Rotten Tomatoes %</th>\n",
       "      <th>Worldwide Gross</th>\n",
       "      <th>Year</th>\n",
       "    </tr>\n",
       "  </thead>\n",
       "  <tbody>\n",
       "    <tr>\n",
       "      <th>0</th>\n",
       "      <td>Zack and Miri Make a Porno</td>\n",
       "      <td>Romance</td>\n",
       "      <td>The Weinstein Company</td>\n",
       "      <td>70</td>\n",
       "      <td>1.747542</td>\n",
       "      <td>64</td>\n",
       "      <td>$41.94</td>\n",
       "      <td>2008</td>\n",
       "    </tr>\n",
       "    <tr>\n",
       "      <th>1</th>\n",
       "      <td>Youth in Revolt</td>\n",
       "      <td>Comedy</td>\n",
       "      <td>The Weinstein Company</td>\n",
       "      <td>52</td>\n",
       "      <td>1.090000</td>\n",
       "      <td>68</td>\n",
       "      <td>$19.62</td>\n",
       "      <td>2010</td>\n",
       "    </tr>\n",
       "    <tr>\n",
       "      <th>2</th>\n",
       "      <td>You Will Meet a Tall Dark Stranger</td>\n",
       "      <td>Comedy</td>\n",
       "      <td>Independent</td>\n",
       "      <td>35</td>\n",
       "      <td>1.211818</td>\n",
       "      <td>43</td>\n",
       "      <td>$26.66</td>\n",
       "      <td>2010</td>\n",
       "    </tr>\n",
       "    <tr>\n",
       "      <th>3</th>\n",
       "      <td>When in Rome</td>\n",
       "      <td>Comedy</td>\n",
       "      <td>Disney</td>\n",
       "      <td>44</td>\n",
       "      <td>0.000000</td>\n",
       "      <td>15</td>\n",
       "      <td>$43.04</td>\n",
       "      <td>2010</td>\n",
       "    </tr>\n",
       "    <tr>\n",
       "      <th>4</th>\n",
       "      <td>What Happens in Vegas</td>\n",
       "      <td>Comedy</td>\n",
       "      <td>Fox</td>\n",
       "      <td>72</td>\n",
       "      <td>6.267647</td>\n",
       "      <td>28</td>\n",
       "      <td>$219.37</td>\n",
       "      <td>2008</td>\n",
       "    </tr>\n",
       "    <tr>\n",
       "      <th>5</th>\n",
       "      <td>Water For Elephants</td>\n",
       "      <td>Drama</td>\n",
       "      <td>20th Century Fox</td>\n",
       "      <td>72</td>\n",
       "      <td>3.081421</td>\n",
       "      <td>60</td>\n",
       "      <td>$117.09</td>\n",
       "      <td>2011</td>\n",
       "    </tr>\n",
       "    <tr>\n",
       "      <th>6</th>\n",
       "      <td>WALL-E</td>\n",
       "      <td>Animation</td>\n",
       "      <td>Disney</td>\n",
       "      <td>89</td>\n",
       "      <td>2.896019</td>\n",
       "      <td>96</td>\n",
       "      <td>$521.28</td>\n",
       "      <td>2008</td>\n",
       "    </tr>\n",
       "    <tr>\n",
       "      <th>7</th>\n",
       "      <td>Waitress</td>\n",
       "      <td>Romance</td>\n",
       "      <td>Independent</td>\n",
       "      <td>67</td>\n",
       "      <td>11.089742</td>\n",
       "      <td>89</td>\n",
       "      <td>$22.18</td>\n",
       "      <td>2007</td>\n",
       "    </tr>\n",
       "    <tr>\n",
       "      <th>8</th>\n",
       "      <td>Waiting For Forever</td>\n",
       "      <td>Romance</td>\n",
       "      <td>Independent</td>\n",
       "      <td>53</td>\n",
       "      <td>0.005000</td>\n",
       "      <td>6</td>\n",
       "      <td>$0.03</td>\n",
       "      <td>2011</td>\n",
       "    </tr>\n",
       "    <tr>\n",
       "      <th>9</th>\n",
       "      <td>Valentine's Day</td>\n",
       "      <td>Comedy</td>\n",
       "      <td>Warner Bros.</td>\n",
       "      <td>54</td>\n",
       "      <td>4.184038</td>\n",
       "      <td>17</td>\n",
       "      <td>$217.57</td>\n",
       "      <td>2010</td>\n",
       "    </tr>\n",
       "  </tbody>\n",
       "</table>\n",
       "</div>"
      ],
      "text/plain": [
       "                                 Film      Genre            Lead Studio  \\\n",
       "0          Zack and Miri Make a Porno    Romance  The Weinstein Company   \n",
       "1                     Youth in Revolt     Comedy  The Weinstein Company   \n",
       "2  You Will Meet a Tall Dark Stranger     Comedy            Independent   \n",
       "3                        When in Rome     Comedy                 Disney   \n",
       "4               What Happens in Vegas     Comedy                    Fox   \n",
       "5                 Water For Elephants      Drama       20th Century Fox   \n",
       "6                              WALL-E  Animation                 Disney   \n",
       "7                            Waitress    Romance            Independent   \n",
       "8                 Waiting For Forever    Romance            Independent   \n",
       "9                     Valentine's Day     Comedy           Warner Bros.   \n",
       "\n",
       "   Audience score %  Profitability  Rotten Tomatoes % Worldwide Gross  Year  \n",
       "0                70       1.747542                 64         $41.94   2008  \n",
       "1                52       1.090000                 68         $19.62   2010  \n",
       "2                35       1.211818                 43         $26.66   2010  \n",
       "3                44       0.000000                 15         $43.04   2010  \n",
       "4                72       6.267647                 28        $219.37   2008  \n",
       "5                72       3.081421                 60        $117.09   2011  \n",
       "6                89       2.896019                 96        $521.28   2008  \n",
       "7                67      11.089742                 89         $22.18   2007  \n",
       "8                53       0.005000                  6          $0.03   2011  \n",
       "9                54       4.184038                 17        $217.57   2010  "
      ]
     },
     "execution_count": 5,
     "metadata": {},
     "output_type": "execute_result"
    }
   ],
   "source": [
    "df.head(n=10)"
   ]
  },
  {
   "cell_type": "code",
   "execution_count": 6,
   "metadata": {},
   "outputs": [
    {
     "data": {
      "text/plain": [
       "Index(['Film', 'Genre', 'Lead Studio', 'Audience score %', 'Profitability',\n",
       "       'Rotten Tomatoes %', 'Worldwide Gross', 'Year'],\n",
       "      dtype='object')"
      ]
     },
     "execution_count": 6,
     "metadata": {},
     "output_type": "execute_result"
    }
   ],
   "source": [
    "df.columns"
   ]
  },
  {
   "cell_type": "code",
   "execution_count": 13,
   "metadata": {},
   "outputs": [],
   "source": [
    "titles=df.get('Film')"
   ]
  },
  {
   "cell_type": "code",
   "execution_count": 15,
   "metadata": {},
   "outputs": [],
   "source": [
    "#converting these titles into a py list\n",
    "titles=list(titles)"
   ]
  },
  {
   "cell_type": "code",
   "execution_count": 17,
   "metadata": {},
   "outputs": [],
   "source": [
    "#titles"
   ]
  },
  {
   "cell_type": "code",
   "execution_count": 24,
   "metadata": {},
   "outputs": [],
   "source": [
    "#creating titles_lengt dict. which has ,key=length,value=freq\n",
    "title_length={}\n",
    "\n",
    "for title in titles:\n",
    "    length=len(title)\n",
    "    if title_length.get(length) is None:\n",
    "        title_length[length]=1\n",
    "    else:\n",
    "        title_length[length]+=1\n",
    "    "
   ]
  },
  {
   "cell_type": "code",
   "execution_count": 26,
   "metadata": {},
   "outputs": [],
   "source": [
    "#title_length"
   ]
  },
  {
   "cell_type": "code",
   "execution_count": 27,
   "metadata": {},
   "outputs": [],
   "source": [
    "X=np.array(list(title_length.keys()))\n",
    "Y=np.array(list(title_length.values()))"
   ]
  },
  {
   "cell_type": "code",
   "execution_count": 28,
   "metadata": {},
   "outputs": [
    {
     "name": "stdout",
     "output_type": "stream",
     "text": [
      "[26 15 34 12 21 19  6  8 35 23 14 27 24 22 18 11 16  7 20 17 30 13 10  9\n",
      " 25] [2 5 3 3 1 3 1 3 2 1 3 2 1 3 9 4 5 3 3 5 1 3 4 6 1]\n"
     ]
    }
   ],
   "source": [
    "print(X,Y)"
   ]
  },
  {
   "cell_type": "code",
   "execution_count": 31,
   "metadata": {},
   "outputs": [
    {
     "data": {
      "text/plain": [
       "Text(0.5, 1.0, 'Movie Title Viz')"
      ]
     },
     "execution_count": 31,
     "metadata": {},
     "output_type": "execute_result"
    },
    {
     "data": {
      "image/png": "[encoded data removed]",
      "text/plain": [
       "<Figure size 576x396 with 1 Axes>"
      ]
     },
     "metadata": {},
     "output_type": "display_data"
    }
   ],
   "source": [
    "plt.scatter(X,Y)\n",
    "plt.ylabel('Freq Of Length Occurence')\n",
    "plt.style.use('dark_background')\n",
    "plt.xlabel('Title Length')\n",
    "plt.title('Movie Title Viz')"
   ]
  },
  {
   "cell_type": "code",
   "execution_count": null,
   "metadata": {},
   "outputs": [],
   "source": []
  }
 ],
 "metadata": {
  "kernelspec": {
   "display_name": "Python 3 (ipykernel)",
   "language": "python",
   "name": "python3"
  },
  "language_info": {
   "codemirror_mode": {
    "name": "ipython",
    "version": 3
   },
   "file_extension": ".py",
   "mimetype": "text/x-python",
   "name": "python",
   "nbconvert_exporter": "python",
   "pygments_lexer": "ipython3",
   "version": "3.8.12"
  }
 },
 "nbformat": 4,
 "nbformat_minor": 4
}
